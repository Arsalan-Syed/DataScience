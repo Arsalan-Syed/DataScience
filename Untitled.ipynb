{
 "cells": [
  {
   "cell_type": "code",
   "execution_count": 66,
   "metadata": {},
   "outputs": [],
   "source": [
    "import numpy as np\n",
    "import pandas as pd\n",
    "import matplotlib.pyplot as plt\n",
    "df=pd.read_csv('data/MassShootingsDataset.csv', encoding = \"ISO-8859-1\")"
   ]
  },
  {
   "cell_type": "code",
   "execution_count": 67,
   "metadata": {},
   "outputs": [
    {
     "name": "stdout",
     "output_type": "stream",
     "text": [
      "1996\n"
     ]
    }
   ],
   "source": [
    "totalFatalities=df['Fatalities'].sum()\n",
    "print(totalFatalities)"
   ]
  },
  {
   "cell_type": "code",
   "execution_count": 74,
   "metadata": {},
   "outputs": [
    {
     "data": {
      "image/png": "[encoded data removed]",
      "text/plain": [
       "<matplotlib.figure.Figure at 0x1ec4856e630>"
      ]
     },
     "metadata": {},
     "output_type": "display_data"
    },
    {
     "name": "stdout",
     "output_type": "stream",
     "text": [
      "White     358\n",
      "Asian      17\n",
      "Latino      7\n",
      "Black      88\n",
      "Other      94\n",
      "Native      6\n",
      "Name: Race, dtype: int64\n"
     ]
    }
   ],
   "source": [
    "def groupRace(raceDistr,strings,mainStr):\n",
    "    raceDistr[mainStr]=0\n",
    "    for x in strings:\n",
    "        raceDistr[mainStr]=raceDistr[mainStr]+raceDistr[x]\n",
    "        if(x!=mainStr):\n",
    "            raceDistr=raceDistr.drop(x)\n",
    "    return raceDistr\n",
    "            \n",
    "race=df['Race'].value_counts()\n",
    "whiteStr=['White American or European American','white','White','White ','White American or European American/Some other Race']\n",
    "race=groupRace(race,whiteStr,'White')\n",
    "blackStr=['Black American or African American','black','Black American or African American/Unknown']\n",
    "race=groupRace(race,blackStr,'Black')\n",
    "asianStr=['Asian','Asian American','Asian American/Some other race']\n",
    "race=groupRace(race,asianStr,'Asian')\n",
    "other=['Some other race','Other','unclear','Unknown','Two or more races']\n",
    "race=groupRace(race,other,'Other')\n",
    "native=['Native American','Native American or Alaska Native']\n",
    "race=groupRace(race,native,'Native')\n",
    "\n",
    "\n",
    "\n",
    "def printPie(sizes,labels,title):\n",
    "    fig1, ax1 = plt.subplots()\n",
    "    ax1.pie(sizes,labels=labels, autopct='%1.1f%%',shadow=True, startangle=90)\n",
    "    ax1.axis('equal')  # Equal aspect ratio ensures that pie is drawn as a circle.\n",
    "    plt.title(title)\n",
    "    plt.show()\n",
    "    \n",
    "\n",
    "printPie(race.values,race.keys(),\"Race Distribution\")\n",
    "\n",
    "#what's the race distribution past year 2000 ? or 2010 ? \n",
    "\n"
   ]
  },
  {
   "cell_type": "code",
   "execution_count": 90,
   "metadata": {},
   "outputs": [
    {
     "name": "stdout",
     "output_type": "stream",
     "text": [
      "0       10/1/2017\n",
      "1       6/14/2017\n",
      "2       06/7/2017\n",
      "3       06/5/2017\n",
      "4       5/12/2017\n",
      "5       4/18/2017\n",
      "6       01/6/2017\n",
      "7       9/23/2016\n",
      "8       7/17/2016\n",
      "9       07/7/2016\n",
      "10      6/12/2016\n",
      "11      4/29/2016\n",
      "12      4/26/2016\n",
      "13      4/24/2016\n",
      "14      4/21/2016\n",
      "15      4/19/2016\n",
      "16      4/19/2016\n",
      "17      4/19/2016\n",
      "18      4/18/2016\n",
      "19      04/9/2016\n",
      "20      04/9/2016\n",
      "21      04/7/2016\n",
      "22      04/1/2016\n",
      "23      3/31/2016\n",
      "24      3/26/2016\n",
      "25      3/25/2016\n",
      "26      3/25/2016\n",
      "27      3/21/2016\n",
      "28      3/21/2016\n",
      "29      3/20/2016\n",
      "          ...    \n",
      "368     2/16/1988\n",
      "369     2/11/1988\n",
      "370     4/23/1987\n",
      "371     4/23/1987\n",
      "372     12/4/1986\n",
      "373     8/20/1986\n",
      "374     8/20/1986\n",
      "375     8/12/1986\n",
      "376     03/6/1985\n",
      "377     1/21/1985\n",
      "378     7/18/1984\n",
      "379     7/18/1984\n",
      "380     6/29/1984\n",
      "381     6/29/1984\n",
      "382     2/24/1984\n",
      "383     8/19/1983\n",
      "384     2/18/1983\n",
      "385     8/20/1982\n",
      "386     8/20/1982\n",
      "387     3/19/1982\n",
      "388     10/6/1979\n",
      "389     1/29/1979\n",
      "390     7/12/1976\n",
      "391     2/19/1976\n",
      "392    12/30/1974\n",
      "393     1/17/1974\n",
      "394    12/31/1972\n",
      "395    11/11/1971\n",
      "396    11/12/1966\n",
      "397     08/1/1966\n",
      "Name: Date, Length: 398, dtype: object\n"
     ]
    }
   ],
   "source": [
    "dates=df['Date']\n",
    "for x in dates:\n",
    "    if len(x)==8:\n",
    "        x=''.join(['0',x])    \n",
    "print(dates)"
   ]
  },
  {
   "cell_type": "code",
   "execution_count": null,
   "metadata": {
    "collapsed": true
   },
   "outputs": [],
   "source": []
  }
 ],
 "metadata": {
  "kernelspec": {
   "display_name": "Python 3",
   "language": "python",
   "name": "python3"
  },
  "language_info": {
   "codemirror_mode": {
    "name": "ipython",
    "version": 3
   },
   "file_extension": ".py",
   "mimetype": "text/x-python",
   "name": "python",
   "nbconvert_exporter": "python",
   "pygments_lexer": "ipython3",
   "version": "3.6.1"
  }
 },
 "nbformat": 4,
 "nbformat_minor": 2
}
