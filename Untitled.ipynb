{
 "cells": [
  {
   "cell_type": "code",
   "execution_count": 37,
   "metadata": {},
   "outputs": [
    {
     "name": "stdout",
     "output_type": "stream",
     "text": [
      "Black American or African American             78\n",
      "Unknown                                        44\n",
      "Some other race                                23\n",
      "Asian American                                 16\n",
      "black                                           9\n",
      "White                                         358\n",
      "Asian                                           7\n",
      "Latino                                          7\n",
      "Black                                           6\n",
      "Other                                           5\n",
      "Two or more races                               3\n",
      "Native American                                 3\n",
      "Native American or Alaska Native                3\n",
      "Black American or African American/Unknown      1\n",
      "Asian American/Some other race                  1\n",
      "unclear                                         1\n",
      "Name: Race, dtype: int64\n"
     ]
    }
   ],
   "source": [
    "import numpy as np\n",
    "import pandas as pd\n",
    "df=pd.read_csv('data/MassShootingsDataset.csv', encoding = \"ISO-8859-1\")\n",
    "totalFatalities=df['Fatalities'].sum()\n",
    "raceDistr=df['Race'].value_counts()\n",
    "#print(totalFatalities)\n",
    "#injured=df[['Title','Injured']]\n",
    "#injured.sort_values(['Injured'],ascending=False)\n",
    "\n",
    "#have to aggregate some of the values into one\n",
    "whiteStr=['White American or European American','white','White','White ','White American or European American/Some other Race']\n",
    "raceDistr['White']=0\n",
    "for x in whiteStr:\n",
    "    raceDistr['White']=raceDistr['White']+raceDistr[x]\n",
    "    if(x!='White'):\n",
    "        raceDistr=raceDistr.drop(x)\n",
    "        \n",
    "def groupRace():\n",
    "    \n",
    "\n",
    "\n",
    "#raceDistr['White']=raceDistr['White American or European American']+raceDistr['white']+raceDistr['White American or European American/Some other Race']\n",
    "#raceDistr.drop([[raceDistr['White American or European American']+raceDistr['white']+raceDistr['White American or European American/Some other Race']\n",
    "#]])\n",
    "print(raceDistr)\n",
    "#what's the race distribution past year 2000 ? or 2010 ? "
   ]
  },
  {
   "cell_type": "code",
   "execution_count": null,
   "metadata": {
    "collapsed": true
   },
   "outputs": [],
   "source": []
  }
 ],
 "metadata": {
  "kernelspec": {
   "display_name": "Python 3",
   "language": "python",
   "name": "python3"
  },
  "language_info": {
   "codemirror_mode": {
    "name": "ipython",
    "version": 3
   },
   "file_extension": ".py",
   "mimetype": "text/x-python",
   "name": "python",
   "nbconvert_exporter": "python",
   "pygments_lexer": "ipython3",
   "version": "3.6.1"
  }
 },
 "nbformat": 4,
 "nbformat_minor": 2
}
